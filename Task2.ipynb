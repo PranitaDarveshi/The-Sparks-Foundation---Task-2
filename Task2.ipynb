{
  "nbformat": 4,
  "nbformat_minor": 0,
  "metadata": {
    "colab": {
      "name": "Task2.ipynb",
      "provenance": [],
      "collapsed_sections": []
    },
    "kernelspec": {
      "name": "python3",
      "display_name": "Python 3"
    }
  },
  "cells": [
    {
      "cell_type": "markdown",
      "metadata": {
        "id": "lZaKBI2k_iki"
      },
      "source": [
        "## **Prediction Using Unsupervised Machine Learning**"
      ]
    },
    {
      "cell_type": "markdown",
      "metadata": {
        "id": "Ika0PjosAn_3"
      },
      "source": [
        "# **From the given ‘Iris’ dataset, predict the optimum number of clusters**"
      ]
    },
    {
      "cell_type": "code",
      "metadata": {
        "id": "FhixMFiXltKR"
      },
      "source": [
        "#Importing libraries\r\n",
        "\r\n",
        "import pandas as pd\r\n",
        "import numpy as np\r\n",
        "import matplotlib.pyplot as plt\r\n",
        "from sklearn import datasets"
      ],
      "execution_count": 61,
      "outputs": []
    },
    {
      "cell_type": "code",
      "metadata": {
        "colab": {
          "base_uri": "https://localhost:8080/",
          "height": 195
        },
        "id": "LAwCRoNnBfMQ",
        "outputId": "b27f02a4-b696-4206-aa55-77413ca79ad0"
      },
      "source": [
        "#Reading Data\r\n",
        "\r\n",
        "iris = datasets.load_iris()\r\n",
        "iris_data = pd.DataFrame(iris.data, columns = iris.feature_names)\r\n",
        "iris_data.head()\r\n"
      ],
      "execution_count": 62,
      "outputs": [
        {
          "output_type": "execute_result",
          "data": {
            "text/html": [
              "<div>\n",
              "<style scoped>\n",
              "    .dataframe tbody tr th:only-of-type {\n",
              "        vertical-align: middle;\n",
              "    }\n",
              "\n",
              "    .dataframe tbody tr th {\n",
              "        vertical-align: top;\n",
              "    }\n",
              "\n",
              "    .dataframe thead th {\n",
              "        text-align: right;\n",
              "    }\n",
              "</style>\n",
              "<table border=\"1\" class=\"dataframe\">\n",
              "  <thead>\n",
              "    <tr style=\"text-align: right;\">\n",
              "      <th></th>\n",
              "      <th>sepal length (cm)</th>\n",
              "      <th>sepal width (cm)</th>\n",
              "      <th>petal length (cm)</th>\n",
              "      <th>petal width (cm)</th>\n",
              "    </tr>\n",
              "  </thead>\n",
              "  <tbody>\n",
              "    <tr>\n",
              "      <th>0</th>\n",
              "      <td>5.1</td>\n",
              "      <td>3.5</td>\n",
              "      <td>1.4</td>\n",
              "      <td>0.2</td>\n",
              "    </tr>\n",
              "    <tr>\n",
              "      <th>1</th>\n",
              "      <td>4.9</td>\n",
              "      <td>3.0</td>\n",
              "      <td>1.4</td>\n",
              "      <td>0.2</td>\n",
              "    </tr>\n",
              "    <tr>\n",
              "      <th>2</th>\n",
              "      <td>4.7</td>\n",
              "      <td>3.2</td>\n",
              "      <td>1.3</td>\n",
              "      <td>0.2</td>\n",
              "    </tr>\n",
              "    <tr>\n",
              "      <th>3</th>\n",
              "      <td>4.6</td>\n",
              "      <td>3.1</td>\n",
              "      <td>1.5</td>\n",
              "      <td>0.2</td>\n",
              "    </tr>\n",
              "    <tr>\n",
              "      <th>4</th>\n",
              "      <td>5.0</td>\n",
              "      <td>3.6</td>\n",
              "      <td>1.4</td>\n",
              "      <td>0.2</td>\n",
              "    </tr>\n",
              "  </tbody>\n",
              "</table>\n",
              "</div>"
            ],
            "text/plain": [
              "   sepal length (cm)  sepal width (cm)  petal length (cm)  petal width (cm)\n",
              "0                5.1               3.5                1.4               0.2\n",
              "1                4.9               3.0                1.4               0.2\n",
              "2                4.7               3.2                1.3               0.2\n",
              "3                4.6               3.1                1.5               0.2\n",
              "4                5.0               3.6                1.4               0.2"
            ]
          },
          "metadata": {
            "tags": []
          },
          "execution_count": 62
        }
      ]
    },
    {
      "cell_type": "code",
      "metadata": {
        "colab": {
          "base_uri": "https://localhost:8080/"
        },
        "id": "dt-2JytKB1YA",
        "outputId": "f9b0b097-991a-4eb0-adb9-91789fbb7fb8"
      },
      "source": [
        "#Finding optimum number of clusters for k-means classification \r\n",
        "\r\n",
        "x =iris_data.iloc[:,[0,1,2,3]]\r\n",
        "\r\n",
        "from sklearn.cluster import KMeans\r\n",
        "\r\n",
        "#SSE is the sum of the squared differences between each observation and its group's mean. \r\n",
        "#It can be used as a measure of variation within a cluster. \r\n",
        "k_range = range(1,11)\r\n",
        "sse=[]\r\n",
        "\r\n",
        "for k in k_range:\r\n",
        "  km = KMeans(n_clusters=k)\r\n",
        "  km.fit(iris_data)\r\n",
        "  sum_of_squares = km.inertia_\r\n",
        "  sse.append(sum_of_squares)\r\n",
        "\r\n",
        "print(\"sum of square values from k=1 to k=11:\")\r\n",
        "sse\r\n"
      ],
      "execution_count": 67,
      "outputs": [
        {
          "output_type": "stream",
          "text": [
            "sum of square values from k=1 to k=11:\n"
          ],
          "name": "stdout"
        },
        {
          "output_type": "execute_result",
          "data": {
            "text/plain": [
              "[681.3706,\n",
              " 152.34795176035792,\n",
              " 78.85144142614601,\n",
              " 57.228473214285714,\n",
              " 46.44618205128205,\n",
              " 39.066035353535355,\n",
              " 34.73594213139802,\n",
              " 30.06459307359308,\n",
              " 28.236290043290047,\n",
              " 26.42545187879604]"
            ]
          },
          "metadata": {
            "tags": []
          },
          "execution_count": 67
        }
      ]
    },
    {
      "cell_type": "code",
      "metadata": {
        "colab": {
          "base_uri": "https://localhost:8080/",
          "height": 295
        },
        "id": "NCGkBRjLNSYW",
        "outputId": "8d84526b-8747-4d40-b85c-02d605c70e27"
      },
      "source": [
        "#plottig line graph to observe 'The elbow'\r\n",
        "#The elbow method is a heuristic used in determining the number of clusters in a data set.\r\n",
        "\r\n",
        "plt.plot(k_range, sse)\r\n",
        "plt.xlabel('Values of K')\r\n",
        "plt.ylabel('sse')\r\n",
        "plt.title('The Elbow Method')\r\n",
        "plt.show()"
      ],
      "execution_count": 68,
      "outputs": [
        {
          "output_type": "display_data",
          "data": {
            "image/png": "[encoded data removed]",
            "text/plain": [
              "<Figure size 432x288 with 1 Axes>"
            ]
          },
          "metadata": {
            "tags": [],
            "needs_background": "light"
          }
        }
      ]
    },
    {
      "cell_type": "markdown",
      "metadata": {
        "id": "eB56DfLgVY-H"
      },
      "source": [
        "## **To determine the optimal number of clusters, we have to select the value of k at the “elbow” ie the point after which the distortion/inertia start decreasing in a linear fashion. Thus for the given data, we conclude that the optimal number of clusters for the data is 3.**"
      ]
    },
    {
      "cell_type": "code",
      "metadata": {
        "colab": {
          "base_uri": "https://localhost:8080/",
          "height": 345
        },
        "id": "ajK-JVVqWMZ3",
        "outputId": "418cda18-f2e6-4d02-d8c0-0d9e72dc0726"
      },
      "source": [
        "y_Kmeans = Kmean.fit_predict(x)\r\n",
        "x = np.array(x) \r\n",
        "# Visualising the clusters - On the first two columns\r\n",
        "plt.title(\"Cluster Obtained from Iris Dataset\")\r\n",
        "plt.scatter(x[y_Kmeans == 0, 0], x[y_Kmeans == 0, 1], c = 'red', label = 'Iris-setosa')\r\n",
        "plt.scatter(x[y_Kmeans == 1, 0], x[y_Kmeans == 1, 1], c = 'blue', label = 'Iris-versicolour')\r\n",
        "plt.scatter(x[y_Kmeans == 2, 0], x[y_Kmeans == 2, 1], c = 'green', label = 'Iris-virginica')\r\n",
        "\r\n",
        "# Plotting the centroids of the clusters\r\n",
        "plt.scatter(Kmean.cluster_centers_[:, 0], Kmean.cluster_centers_[:,1], c = 'yellow', label = 'Centroids')\r\n",
        "plt.grid()\r\n",
        "plt.legend(loc=(1,1))"
      ],
      "execution_count": 66,
      "outputs": [
        {
          "output_type": "execute_result",
          "data": {
            "text/plain": [
              "<matplotlib.legend.Legend at 0x7f293b2d7f50>"
            ]
          },
          "metadata": {
            "tags": []
          },
          "execution_count": 66
        },
        {
          "output_type": "display_data",
          "data": {
            "image/png": "[encoded data removed]",
            "text/plain": [
              "<Figure size 432x288 with 1 Axes>"
            ]
          },
          "metadata": {
            "tags": [],
            "needs_background": "light"
          }
        }
      ]
    },
    {
      "cell_type": "code",
      "metadata": {
        "id": "kidNfo8zZKCM"
      },
      "source": [
        ""
      ],
      "execution_count": null,
      "outputs": []
    }
  ]
}